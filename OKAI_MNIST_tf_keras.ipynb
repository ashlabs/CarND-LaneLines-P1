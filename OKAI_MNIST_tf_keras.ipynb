{
  "nbformat": 4,
  "nbformat_minor": 0,
  "metadata": {
    "colab": {
      "name": "OKAI_MNIST_tf_keras.ipynb",
      "version": "0.3.2",
      "provenance": [],
      "collapsed_sections": [],
      "include_colab_link": true
    },
    "kernelspec": {
      "name": "python3",
      "display_name": "Python 3"
    },
    "accelerator": "GPU"
  },
  "cells": [
    {
      "cell_type": "markdown",
      "metadata": {
        "id": "view-in-github",
        "colab_type": "text"
      },
      "source": [
        "<a href=\"https://colab.research.google.com/github/ashlabs/CarND-LaneLines-P1/blob/master/OKAI_MNIST_tf_keras.ipynb\" target=\"_parent\"><img src=\"https://colab.research.google.com/assets/colab-badge.svg\" alt=\"Open In Colab\"/></a>"
      ]
    },
    {
      "metadata": {
        "id": "Pf0rfMzTnYUa",
        "colab_type": "text"
      },
      "cell_type": "markdown",
      "source": [
        "# PLEASE READ THIS FIRST: \n",
        "\n",
        "\n",
        "### You would need to sign in to your Google account to continue. \n",
        "\n",
        "### Please Click \"OPEN IN PLAYGROUND\" on the upper left corner to interact.\n",
        "\n",
        "### Hover your mouse over the left side of the gray code box, and you will see a small run button. Click that button to run that piece of code. \n",
        "\n",
        "### You can change the code as you like, or use the input box on the right as a starting point. \n",
        "\n",
        "### If any warnings popped out, everything is totally fine, you only need to click \"run anyways\" and then \"yes\" to proceed. \n",
        "\n",
        "### We provided some explanations of what each line of code, and you can change the code of the network if you feel exceptionally adventurous. "
      ]
    },
    {
      "metadata": {
        "id": "CmcyB9KaSxVq",
        "colab_type": "text"
      },
      "cell_type": "markdown",
      "source": [
        "# Import libraries"
      ]
    },
    {
      "metadata": {
        "id": "B4pBU6YrBKx1",
        "colab_type": "code",
        "colab": {}
      },
      "cell_type": "code",
      "source": [
        "import tensorflow as tf # deep learning library\n",
        "from matplotlib import pyplot as plt # image plotting library\n",
        "import numpy as np # used to extract classes from logits"
      ],
      "execution_count": 0,
      "outputs": []
    },
    {
      "metadata": {
        "id": "uBaFdJGaS32R",
        "colab_type": "text"
      },
      "cell_type": "markdown",
      "source": [
        "# Load data and Train model"
      ]
    },
    {
      "metadata": {
        "id": "XLxfNcgLofR6",
        "colab_type": "code",
        "colab": {}
      },
      "cell_type": "code",
      "source": [
        "# Construct model\n",
        "model = tf.keras.models.Sequential([\n",
        "  tf.keras.layers.Flatten(), # flatten the 28 by 28 picture to 1 by 784\n",
        "  tf.keras.layers.Dense(500, activation=tf.nn.relu), # A relu layer with 500 weights\n",
        "  tf.keras.layers.Dense(10, activation=tf.nn.softmax) # A softmax layer that generates probabilities\n",
        "])\n",
        "\n",
        "sgd = tf.keras.optimizers.SGD(lr=0.7) # Stochastic Gradient Descent with Learning Rate of 0.7\n",
        "\n",
        "model.compile(optimizer=sgd,\n",
        "              loss='sparse_categorical_crossentropy', # Loss function is a special version of cross entropy\n",
        "              metrics=['accuracy'])\n",
        "\n",
        "# Load data\n",
        "mnist = tf.keras.datasets.mnist\n",
        "\n",
        "(x_train, y_train),(x_test, y_test) = mnist.load_data()\n",
        "x_train, x_test = x_train / 255, x_test / 255\n",
        "\n",
        "# Train model\n",
        "print(\"training:\")\n",
        "model.fit(x_train, y_train,batch_size=100, epochs=2) # trains with batch size of 100 and trains over the data 2 times\n",
        "print(\"\\ntesting:\")\n",
        "loss, accuracy = model.evaluate(x_test, y_test) # Checks accuracy\n",
        "print(\"\\naccuracy: {:2.2f}%\".format(accuracy * 100))"
      ],
      "execution_count": 0,
      "outputs": []
    },
    {
      "metadata": {
        "id": "Cofl__whTCpt",
        "colab_type": "text"
      },
      "cell_type": "markdown",
      "source": [
        "# Set up visualization"
      ]
    },
    {
      "metadata": {
        "id": "kelp2XyWD66a",
        "colab_type": "code",
        "colab": {}
      },
      "cell_type": "code",
      "source": [
        "def display(i):\n",
        "  plt.axis('off')\n",
        "  plt.imshow(x_test[i], cmap='gray')\n",
        "  print(\"image:\")\n",
        "  plt.show()\n",
        "  prob = np.max(model.predict(x_test[i:i+1])) * 100\n",
        "  pred = np.argmax(model.predict(x_test[i:i+1]))\n",
        "  print(\"The model is {:2.2f}% sure it is {}\".format(prob, pred))\n",
        "  print(\"real value: {}\".format(y_test[i]))\n",
        "  print()\n",
        "print(\"Everything's ready. Please proceed to visualizing the predictions. \")"
      ],
      "execution_count": 0,
      "outputs": []
    },
    {
      "metadata": {
        "id": "oPZHzsACTFzT",
        "colab_type": "text"
      },
      "cell_type": "markdown",
      "source": [
        "# Visualize data and predictions"
      ]
    },
    {
      "metadata": {
        "id": "U_JxDfB9oxJS",
        "colab_type": "code",
        "colab": {}
      },
      "cell_type": "code",
      "source": [
        "#@title Test Sample Number\n",
        "i = 120 #@param {type:\"integer\"}\n",
        "\n",
        "display(i)"
      ],
      "execution_count": 0,
      "outputs": []
    },
    {
      "metadata": {
        "id": "nscOorURTLHu",
        "colab_type": "text"
      },
      "cell_type": "markdown",
      "source": [
        "# Wrong Predictions"
      ]
    },
    {
      "metadata": {
        "id": "_UDf4LQ5H8lF",
        "colab_type": "code",
        "colab": {}
      },
      "cell_type": "code",
      "source": [
        "#@title Example of Wrong Prediction\n",
        "#@markdown Note that this is very different from a normally written 4 (somewhat similar to a 2), so most models will think it is a 2 rather than a 4\n",
        "display(247)\n"
      ],
      "execution_count": 0,
      "outputs": []
    },
    {
      "metadata": {
        "id": "vwPHHS3eRKqN",
        "colab_type": "code",
        "colab": {}
      },
      "cell_type": "code",
      "source": [
        ""
      ],
      "execution_count": 0,
      "outputs": []
    }
  ]
}